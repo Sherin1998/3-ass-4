{
 "cells": [
  {
   "cell_type": "code",
   "execution_count": 8,
   "metadata": {},
   "outputs": [
    {
     "name": "stdout",
     "output_type": "stream",
     "text": [
      "4\n"
     ]
    },
    {
     "data": {
      "text/plain": [
       "24"
      ]
     },
     "execution_count": 8,
     "metadata": {},
     "output_type": "execute_result"
    }
   ],
   "source": [
    "#1\n",
    "def fac(x):\n",
    "    if(x==1):\n",
    "        return x\n",
    "    else:\n",
    "        return x*fac(x-1)\n",
    "    \n",
    "x=int(input())\n",
    "fac(x)"
   ]
  },
  {
   "cell_type": "code",
   "execution_count": 12,
   "metadata": {},
   "outputs": [
    {
     "name": "stdout",
     "output_type": "stream",
     "text": [
      "4\n",
      "4*0 = 0\n",
      "4*1 = 4\n",
      "4*2 = 8\n",
      "4*3 = 12\n",
      "4*4 = 16\n",
      "4*5 = 20\n",
      "4*6 = 24\n",
      "4*7 = 28\n",
      "4*8 = 32\n",
      "4*9 = 36\n",
      "4*10 = 40\n"
     ]
    }
   ],
   "source": [
    "#2\n",
    "\n",
    "x=int(input())\n",
    "for i in range(11):\n",
    "    print(f'{x}*{i} =',x*i)\n",
    "    "
   ]
  },
  {
   "cell_type": "code",
   "execution_count": 26,
   "metadata": {},
   "outputs": [
    {
     "name": "stdout",
     "output_type": "stream",
     "text": [
      "Enter Limit8\n",
      "0\n",
      "1\n",
      "1\n",
      "2\n",
      "3\n",
      "5\n",
      "8\n",
      "13\n"
     ]
    }
   ],
   "source": [
    "#3\n",
    "def fibi(x):\n",
    "    if(x==1):\n",
    "        return 1\n",
    "    elif(x<0):\n",
    "        return 0 \n",
    "    else:\n",
    "        return (fibi(x-1)+fibi(x-2))\n",
    "\n",
    "\n",
    "x=int(input('Enter Limit'))\n",
    "for i in range(x):\n",
    "     print(fibi(i))\n",
    "      \n"
   ]
  },
  {
   "cell_type": "code",
   "execution_count": 10,
   "metadata": {},
   "outputs": [
    {
     "name": "stdout",
     "output_type": "stream",
     "text": [
      "153\n",
      "Amstrng\n"
     ]
    }
   ],
   "source": [
    "#4\n",
    "def amstrng(x):\n",
    "    te=x\n",
    "    l=len(str(x))\n",
    "    sum=0\n",
    "    while(te!=0):\n",
    "        s=te%10\n",
    "        sum+=(s**l)\n",
    "        te=te//10\n",
    "    if(x==sum):\n",
    "        print('Amstrng')\n",
    "    else:\n",
    "        print('not Amstrng')\n",
    "        \n",
    "x=int(input())\n",
    "amstrng(x)\n",
    "\n"
   ]
  },
  {
   "cell_type": "code",
   "execution_count": 17,
   "metadata": {},
   "outputs": [
    {
     "name": "stdout",
     "output_type": "stream",
     "text": [
      "101\n",
      "0\n",
      "1\n",
      "2\n",
      "3\n",
      "4\n",
      "5\n",
      "6\n",
      "7\n",
      "8\n",
      "9\n"
     ]
    }
   ],
   "source": [
    "#5\n",
    "def amstrng(x):\n",
    "    for i in range(x):\n",
    "        temp=i\n",
    "        s=len(str(i))\n",
    "        sum=0\n",
    "        while(temp!=0):\n",
    "            re=temp%10\n",
    "            sum+=(re**s)\n",
    "            temp=temp//10\n",
    "        if(i==sum):\n",
    "            print(i)\n",
    " \n",
    "\n",
    "x=int(input())\n",
    "amstrng(x)"
   ]
  },
  {
   "cell_type": "code",
   "execution_count": 27,
   "metadata": {},
   "outputs": [
    {
     "name": "stdout",
     "output_type": "stream",
     "text": [
      "Enter range10\n"
     ]
    },
    {
     "data": {
      "text/plain": [
       "55"
      ]
     },
     "execution_count": 27,
     "metadata": {},
     "output_type": "execute_result"
    }
   ],
   "source": [
    "#5\n",
    "\n",
    "def nat(x):\n",
    "    if(x==0):\n",
    "        return x\n",
    "    else:\n",
    "        return x+nat(x-1)\n",
    "\n",
    "x=int(input('Enter range'))\n",
    "nat(x)"
   ]
  },
  {
   "cell_type": "code",
   "execution_count": null,
   "metadata": {},
   "outputs": [],
   "source": []
  }
 ],
 "metadata": {
  "kernelspec": {
   "display_name": "Python 3",
   "language": "python",
   "name": "python3"
  },
  "language_info": {
   "codemirror_mode": {
    "name": "ipython",
    "version": 3
   },
   "file_extension": ".py",
   "mimetype": "text/x-python",
   "name": "python",
   "nbconvert_exporter": "python",
   "pygments_lexer": "ipython3",
   "version": "3.8.3"
  }
 },
 "nbformat": 4,
 "nbformat_minor": 4
}
